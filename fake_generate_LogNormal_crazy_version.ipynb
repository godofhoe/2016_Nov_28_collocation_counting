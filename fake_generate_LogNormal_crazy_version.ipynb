{
 "cells": [
  {
   "cell_type": "markdown",
   "metadata": {},
   "source": [
    "## 從字庫裡面把字隨機挑出來組成二字詞或三字詞，然後強迫他們滿足log-normal law，之後用這些詞組成文本"
   ]
  },
  {
   "cell_type": "code",
   "execution_count": null,
   "metadata": {
    "collapsed": true
   },
   "outputs": [],
   "source": [
    "import random \n",
    "import bisect \n",
    "import math \n",
    "from functools import reduce\n",
    "import numpy as np\n",
    "import pandas as pd\n",
    "import matplotlib.pyplot as plt\n",
    "from count import *\n",
    "from count_col import count_col\n",
    "%matplotlib inline"
   ]
  },
  {
   "cell_type": "code",
   "execution_count": null,
   "metadata": {
    "collapsed": true
   },
   "outputs": [],
   "source": [
    "class LogGaussianGenerator: \n",
    "    \"\"\"\n",
    "    GaussianGenerator is an immutable type representing a Gaussian CDF\n",
    "    with patameters sigma and n; centre located at 1.0   \n",
    "\n",
    "    \"\"\"\n",
    "\n",
    "    \n",
    "    def __init__(self, n, sigma , mu = 0.0): \n",
    "        \"\"\"Ininitialize a Gaussian CDF.\n",
    "         Paramerters\n",
    "         n: int \n",
    "            n >= 0\n",
    "         \n",
    "         sigma: float \n",
    "            sigma >= 1\n",
    "            \n",
    "         mu: float\n",
    "        \"\"\"\n",
    "        # Calculate non-normalized cumulative values from 1 to n: \n",
    "        assert n >= 0 and sigma >= 1.0\n",
    "        assert int(n) == n \n",
    "        self.n = n\n",
    "        self.sigma = sigma\n",
    "        self.mu = mu\n",
    "        tmp = [(math.exp(-(math.log(i) - mu)**2 / (2 * sigma**2))/(i * sigma)) for i in range(1, n+1)] \n",
    "        zeta = reduce(lambda sums, x: sums + [sums[-1] + x], tmp, [0]) \n",
    "\n",
    "        # Store the translation map: \n",
    "        # Abstract function: representing the cumulative distribution function \n",
    "        # of a Gaussian pmf \n",
    "        self.distMap = [x / zeta[-1] for x in zeta] \n",
    "\n",
    "    def next(self): \n",
    "        \"\"\"Yield an integer between 0 and n, with probability governed by \n",
    "        Zipf distribution function specified by n and alpha.\n",
    "        \"\"\"\n",
    "        # Take a uniform 0-1 pseudo-random value: \n",
    "        u = random.random()  \n",
    "\n",
    "        # Translate the Zipf variable: \n",
    "        return bisect.bisect(self.distMap, u) - 1\n",
    "    \n",
    "    def __get_alpha(self):\n",
    "        ans = self.alpha\n",
    "        return ans\n",
    "    \n",
    "    def __get_n(self):\n",
    "        ans = self.n\n",
    "        return ans\n",
    "\n"
   ]
  },
  {
   "cell_type": "code",
   "execution_count": null,
   "metadata": {
    "collapsed": false
   },
   "outputs": [],
   "source": [
    "def read_file_generate_fake(char_num = 2, out_file =  'fake1.txt', sample_word_num = 8000,\n",
    "                            num_word_in_fake_scrip = 15000, \n",
    "                            alpha = 1.00001, noun = False):\n",
    "    \"\"\"Read \"roc2.txt\" file, and then generate a fake script satisfying Zipfs' law. All the words in \n",
    "    the output script share the same lenth char_num\n",
    "    \"\"\"\n",
    "    SAMPLE_WORD_NUM = sample_word_num\n",
    "    ALPHA = alpha\n",
    "    NUM_WORD_IN_NOV = num_word_in_fake_scrip\n",
    "    OUTPUT_FILE_NAME = out_file\n",
    "    NOUN = noun\n",
    "    CHAR_NUM = char_num\n",
    "    \n",
    "    gau_gen =  LogGaussianGenerator(SAMPLE_WORD_NUM,ALPHA)\n",
    "    f =  open(\"roc2.txt\",\"r\")\n",
    "\n",
    "    world_list = []\n",
    "    \n",
    "    for line in f:\n",
    "        line_split = line.split(\"\\t\")\n",
    "        if NOUN:\n",
    "            if 'N' in line_split[4]:\n",
    "                world_list.append(line_split[3])\n",
    "        else:\n",
    "            #if len(line_split[3]) == CHAR_NUM:\n",
    "                world_list.append(line_split[3])\n",
    "\n",
    "    f.close()\n",
    "    \n",
    "    for item in world_list:\n",
    "        if item == \" \":\n",
    "            world_list.remove(item)\n",
    "    #######################################\n",
    "    ###these codes are optional \n",
    "    \n",
    "    tmp_list = []\n",
    "    for item in world_list:\n",
    "        for e in list(item):\n",
    "            tmp_list.append(e)\n",
    "    random.shuffle(tmp_list)\n",
    "    list_2 = []\n",
    "    tmp = ''\n",
    "    for e in tmp_list:\n",
    "        tmp = tmp + e\n",
    "        if len(tmp) == char_num:\n",
    "            list_2.append(tmp)\n",
    "            tmp = ''\n",
    "    \n",
    "    world_list = list_2\n",
    "\n",
    "    print(\"words in a corpus: \" ,len(world_list))\n",
    "    \n",
    "    \n",
    "    #######################################\n",
    "\n",
    "\n",
    "    print(\"A corpus is successfully loaded.\")\n",
    "    \n",
    "    random.shuffle(world_list)\n",
    "    small_world_list = world_list[-SAMPLE_WORD_NUM:]\n",
    "    target_string_list = []\n",
    "\n",
    "    for i in range(NUM_WORD_IN_NOV):\n",
    "        num = gau_gen.next()\n",
    "        w = small_world_list[num]\n",
    "        target_string_list.append(w+\" \")\n",
    "        \n",
    "    f2 = open(OUTPUT_FILE_NAME , 'w')\n",
    "\n",
    "    word_count = 0\n",
    "    for item in target_string_list:\n",
    "        if word_count < 20:\n",
    "            f2.write(item)\n",
    "            word_count += 1\n",
    "        else:\n",
    "            word_count = 0\n",
    "            f2.write(item+\"\\n\")\n",
    "    f2.close()\n",
    "    print(\"A fake script is successfully created !\")\n",
    "    print(\"--------------------\")\n",
    "    return None"
   ]
  },
  {
   "cell_type": "markdown",
   "metadata": {},
   "source": [
    "## 改動不同的參數以產生你想要的文本\n",
    "#### 參數解釋：\n",
    "* char_num: 假文本裡面每個單詞的字數\n",
    "* out_file: 輸出的假文本的檔名\n",
    "* sample_word_num: zipf's law 的參數之一\n",
    "* num_word_in_fake_scrip: 輸出的假文本總共有多少單詞\n",
    "* alpha: Zipf's law 的參數之二\n",
    "* noun: 只選roc2.txt(中研院詞庫)中的名詞與否"
   ]
  },
  {
   "cell_type": "code",
   "execution_count": null,
   "metadata": {
    "collapsed": false
   },
   "outputs": [],
   "source": [
    "read_file_generate_fake(char_num = 2, out_file =  'JAN14LogNormal.txt', sample_word_num = 9000,\n",
    "                            num_word_in_fake_scrip = 20000, \n",
    "                            alpha = 100.0, noun = False)"
   ]
  },
  {
   "cell_type": "code",
   "execution_count": null,
   "metadata": {
    "collapsed": false
   },
   "outputs": [],
   "source": [
    "#encode = \"UTF-16\" #(1)\n",
    "encode = \"UTF-8\"   #(2)\n",
    "##if anything gets into trouble, use (1) instead of (2), and vise versa.\n",
    "filename = 'JAN14LogNormal.txt' #change filename if you want to get statictical information of another\n",
    "##text file.\n",
    "big, char, word = main(filename,encode) "
   ]
  },
  {
   "cell_type": "code",
   "execution_count": null,
   "metadata": {
    "collapsed": false,
    "scrolled": true
   },
   "outputs": [],
   "source": [
    "xx = big[\"0th_char_rank\"]\n",
    "plt.title('charRank-WordRank')\n",
    "plt.plot(xx,'ro')"
   ]
  },
  {
   "cell_type": "code",
   "execution_count": null,
   "metadata": {
    "collapsed": true
   },
   "outputs": [],
   "source": [
    "count_col(word,char)\n",
    "char.to_csv('out1.csv', sep=',')"
   ]
  },
  {
   "cell_type": "code",
   "execution_count": null,
   "metadata": {
    "collapsed": false
   },
   "outputs": [],
   "source": [
    "char"
   ]
  },
  {
   "cell_type": "code",
   "execution_count": null,
   "metadata": {
    "collapsed": false
   },
   "outputs": [],
   "source": []
  },
  {
   "cell_type": "code",
   "execution_count": null,
   "metadata": {
    "collapsed": false
   },
   "outputs": [],
   "source": [
    "yy = word['wordFreq']\n",
    "plt.yscale('log')\n",
    "plt.xscale('log')\n",
    "plt.plot(yy,'ro')"
   ]
  },
  {
   "cell_type": "code",
   "execution_count": null,
   "metadata": {
    "collapsed": false
   },
   "outputs": [],
   "source": [
    "draw_density_plot(big, 6,)"
   ]
  },
  {
   "cell_type": "code",
   "execution_count": null,
   "metadata": {
    "collapsed": false
   },
   "outputs": [],
   "source": [
    "check_const_ratio(word)"
   ]
  },
  {
   "cell_type": "code",
   "execution_count": null,
   "metadata": {
    "collapsed": true
   },
   "outputs": [],
   "source": []
  }
 ],
 "metadata": {
  "anaconda-cloud": {},
  "kernelspec": {
   "display_name": "Python [default]",
   "language": "python",
   "name": "python3"
  },
  "language_info": {
   "codemirror_mode": {
    "name": "ipython",
    "version": 3
   },
   "file_extension": ".py",
   "mimetype": "text/x-python",
   "name": "python",
   "nbconvert_exporter": "python",
   "pygments_lexer": "ipython3",
   "version": "3.5.2"
  }
 },
 "nbformat": 4,
 "nbformat_minor": 0
}
